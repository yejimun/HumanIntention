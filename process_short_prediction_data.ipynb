{
 "cells": [
  {
   "cell_type": "code",
   "execution_count": 1,
   "id": "b113f846",
   "metadata": {},
   "outputs": [],
   "source": [
    "from os.path import isdir, join\n",
    "import pickle\n",
    "import numpy as np\n",
    "import matplotlib.pyplot as plt\n",
    "# import rosbag\n",
    "import glob\n",
    "from sklearn.model_selection import train_test_split, KFold\n",
    "import os\n",
    "import pdb\n",
    "import math\n",
    "import torch"
   ]
  },
  {
   "cell_type": "code",
   "execution_count": 2,
   "id": "e28347f3",
   "metadata": {},
   "outputs": [],
   "source": [
    "pkg_path = '/home/zhe/HumanIntention'\n",
    "dataset_filename = '2TargetsLabeled.p'\n",
    "dataset_filepath = join(pkg_path, 'Dataset', dataset_filename)\n",
    "with open(dataset_filepath,'rb') as f:\n",
    "    data = pickle.load(f)"
   ]
  },
  {
   "cell_type": "code",
   "execution_count": 3,
   "id": "8102d01f",
   "metadata": {},
   "outputs": [],
   "source": [
    "xtrain, xtest, ytrain, ytest = [], [], [], []\n",
    "for intention in [0, 1]:\n",
    "    intention_label = [intention for i in range(len(data[intention]))]\n",
    "    xtraini, xtesti, ytraini, ytesti = train_test_split(data[intention], intention_label, test_size=5, random_state=0)\n",
    "    xtrain += xtraini\n",
    "    ytrain += ytraini\n",
    "    xtest += xtesti\n",
    "    ytest += ytesti"
   ]
  },
  {
   "cell_type": "code",
   "execution_count": 4,
   "id": "11c9f7f8",
   "metadata": {},
   "outputs": [],
   "source": [
    "def process_data(raw_x, raw_y, obs_seq_len, pred_seq_len, skip=2):\n",
    "    seq_len = obs_seq_len+pred_seq_len\n",
    "    xobs, xpred, yintention = [], [], []\n",
    "    for x, y in zip(raw_x, raw_y):\n",
    "        n_seq = math.floor((len(x)-seq_len)/skip)+1\n",
    "        idx_range = range(0, n_seq*skip, skip)\n",
    "        for idx in idx_range:\n",
    "            seq_data = x[idx:idx+seq_len]# (seq_len, 2)\n",
    "            obs_seq_data, pred_seq_data = seq_data[:obs_seq_len], seq_data[obs_seq_len:]\n",
    "            xobs.append(obs_seq_data)\n",
    "            xpred.append(pred_seq_data)\n",
    "            yintention.append(y)\n",
    "    xobs = torch.stack(xobs, dim=0) # (N, obs_seq_len, 2)\n",
    "    xpred = torch.stack(xpred, dim=0) # (N, pred_seq_len, 2)\n",
    "    yintention = torch.tensor(yintention).unsqueeze(1).type(torch.float) # (N, 1)\n",
    "    return xobs, xpred, yintention\n",
    "\n",
    "skip = 2\n",
    "obs_seq_len, pred_seq_len = 4, 6\n",
    "\n",
    "xobs_train, xpred_train, yintention_train = process_data(xtrain, ytrain, obs_seq_len, pred_seq_len, skip=2)\n",
    "xobs_test, xpred_test, yintention_test = process_data(xtest, ytest, obs_seq_len, pred_seq_len, skip=2)"
   ]
  },
  {
   "cell_type": "code",
   "execution_count": 6,
   "id": "3e53caab",
   "metadata": {},
   "outputs": [],
   "source": [
    "torch.save({\"xobs_train\": xobs_train, \"xpred_train\": xpred_train, \"yintention_train\": yintention_train,\\\n",
    "            \"xobs_test\": xobs_test, \"xpred_test\": xpred_test, \"yintention_test\": yintention_test, \\\n",
    "            \"obs_seq_len\": obs_seq_len, \"pred_seq_len\": pred_seq_len, \"skip\": skip}, 'short_prediction_data.pt')"
   ]
  },
  {
   "cell_type": "code",
   "execution_count": 5,
   "id": "22b469a0",
   "metadata": {},
   "outputs": [
    {
     "name": "stdout",
     "output_type": "stream",
     "text": [
      "tensor([329])\n",
      "tensor([469])\n"
     ]
    }
   ],
   "source": [
    "print(sum(yintention_train==0))\n",
    "print(sum(yintention_train==1))"
   ]
  },
  {
   "cell_type": "code",
   "execution_count": 6,
   "id": "57bc02dc",
   "metadata": {},
   "outputs": [
    {
     "name": "stdout",
     "output_type": "stream",
     "text": [
      "tensor([[214., 215.],\n",
      "        [221., 215.],\n",
      "        [231., 215.],\n",
      "        [235., 215.]])\n",
      "tensor([61])\n",
      "tensor([99])\n",
      "\n"
     ]
    }
   ],
   "source": [
    "kf = KFold(n_splits=5, random_state=0, shuffle=True)\n",
    "for train_index, validation_index in kf.split(xobs_train):\n",
    "#     print(\"TRAIN:\", train_index, \"VAL:\", validation_index)\n",
    "    print(xobs_train[train_index][20])\n",
    "    print(sum(yintention_train[validation_index]==0))\n",
    "    print(sum(yintention_train[validation_index]==1))\n",
    "    print()\n",
    "    break"
   ]
  },
  {
   "cell_type": "code",
   "execution_count": 15,
   "id": "087946ed",
   "metadata": {},
   "outputs": [
    {
     "name": "stdout",
     "output_type": "stream",
     "text": [
      "tensor([[214., 215.],\n",
      "        [221., 215.],\n",
      "        [231., 215.],\n",
      "        [235., 215.]])\n",
      "tensor([61])\n",
      "tensor([99])\n",
      "\n"
     ]
    }
   ],
   "source": [
    "kf = KFold(n_splits=5, random_state=0, shuffle=True)\n",
    "for train_index, validation_index in kf.split(xobs_train):\n",
    "#     print(\"TRAIN:\", train_index, \"VAL:\", validation_index)\n",
    "    print(xobs_train[train_index][20])\n",
    "    print(sum(yintention_train[validation_index]==0))\n",
    "    print(sum(yintention_train[validation_index]==1))\n",
    "    print()\n",
    "    break"
   ]
  },
  {
   "cell_type": "code",
   "execution_count": null,
   "id": "d9fc6b1c",
   "metadata": {},
   "outputs": [],
   "source": []
  },
  {
   "cell_type": "code",
   "execution_count": 101,
   "id": "30888f1c",
   "metadata": {},
   "outputs": [
    {
     "data": {
      "text/plain": [
       "5"
      ]
     },
     "execution_count": 101,
     "metadata": {},
     "output_type": "execute_result"
    }
   ],
   "source": [
    "kf = KFold(n_splits=5, random_state=0, shuffle=True)\n",
    "kf.get_n_splits()\n",
    "# print(kf)\n"
   ]
  },
  {
   "cell_type": "code",
   "execution_count": 97,
   "id": "fd5b4d5e",
   "metadata": {},
   "outputs": [
    {
     "name": "stdout",
     "output_type": "stream",
     "text": [
      "[0, 0, 0, 0, 0, 0, 0, 0, 0, 0, 0, 0, 0, 0, 0, 0, 0, 0, 0, 0, 0, 0, 0, 0, 0, 1, 1, 1, 1, 1, 1, 1, 1, 1, 1, 1, 1, 1, 1, 1, 1, 1, 1, 1, 1, 1, 1, 1, 1, 1]\n"
     ]
    }
   ],
   "source": [
    "print(ytrain)"
   ]
  },
  {
   "cell_type": "code",
   "execution_count": 98,
   "id": "34551ca5",
   "metadata": {
    "scrolled": true
   },
   "outputs": [
    {
     "name": "stdout",
     "output_type": "stream",
     "text": [
      "TRAIN: [ 0  1  3  5  6  7  8  9 12 13 14 15 16 17 18 19 20 21 23 24 25 26 29 30\n",
      " 32 33 34 35 36 37 39 40 42 43 44 45 46 47 48 49] VAL: [ 2  4 10 11 22 27 28 31 38 41]\n"
     ]
    },
    {
     "ename": "TypeError",
     "evalue": "only integer scalar arrays can be converted to a scalar index",
     "output_type": "error",
     "traceback": [
      "\u001b[0;31m---------------------------------------------------------------------------\u001b[0m",
      "\u001b[0;31mTypeError\u001b[0m                                 Traceback (most recent call last)",
      "\u001b[0;32m<ipython-input-98-62e6d0314009>\u001b[0m in \u001b[0;36m<module>\u001b[0;34m\u001b[0m\n\u001b[1;32m      1\u001b[0m \u001b[0;32mfor\u001b[0m \u001b[0mtrain_index\u001b[0m\u001b[0;34m,\u001b[0m \u001b[0mvalidation_index\u001b[0m \u001b[0;32min\u001b[0m \u001b[0mkf\u001b[0m\u001b[0;34m.\u001b[0m\u001b[0msplit\u001b[0m\u001b[0;34m(\u001b[0m\u001b[0mxtrain\u001b[0m\u001b[0;34m,\u001b[0m \u001b[0mytrain\u001b[0m\u001b[0;34m)\u001b[0m\u001b[0;34m:\u001b[0m\u001b[0;34m\u001b[0m\u001b[0;34m\u001b[0m\u001b[0m\n\u001b[1;32m      2\u001b[0m     \u001b[0mprint\u001b[0m\u001b[0;34m(\u001b[0m\u001b[0;34m\"TRAIN:\"\u001b[0m\u001b[0;34m,\u001b[0m \u001b[0mtrain_index\u001b[0m\u001b[0;34m,\u001b[0m \u001b[0;34m\"VAL:\"\u001b[0m\u001b[0;34m,\u001b[0m \u001b[0mvalidation_index\u001b[0m\u001b[0;34m)\u001b[0m\u001b[0;34m\u001b[0m\u001b[0;34m\u001b[0m\u001b[0m\n\u001b[0;32m----> 3\u001b[0;31m     \u001b[0mprint\u001b[0m\u001b[0;34m(\u001b[0m\u001b[0mytrain\u001b[0m\u001b[0;34m[\u001b[0m\u001b[0mtrain_index\u001b[0m\u001b[0;34m]\u001b[0m\u001b[0;34m)\u001b[0m\u001b[0;34m\u001b[0m\u001b[0;34m\u001b[0m\u001b[0m\n\u001b[0m",
      "\u001b[0;31mTypeError\u001b[0m: only integer scalar arrays can be converted to a scalar index"
     ]
    }
   ],
   "source": [
    "for train_index, validation_index in kf.split(xtrain, ytrain):\n",
    "    print(\"TRAIN:\", train_index, \"VAL:\", validation_index)\n",
    "    print(ytrain[train_index])"
   ]
  }
 ],
 "metadata": {
  "kernelspec": {
   "display_name": "Python 3",
   "language": "python",
   "name": "python3"
  },
  "language_info": {
   "codemirror_mode": {
    "name": "ipython",
    "version": 3
   },
   "file_extension": ".py",
   "mimetype": "text/x-python",
   "name": "python",
   "nbconvert_exporter": "python",
   "pygments_lexer": "ipython3",
   "version": "3.6.9"
  }
 },
 "nbformat": 4,
 "nbformat_minor": 5
}
